{
 "cells": [
  {
   "cell_type": "code",
   "execution_count": null,
   "metadata": {},
   "outputs": [],
   "source": [
    "import requests\n",
    "import schedule\n",
    "import time\n",
    "\n",
    "def send_line_notify(message):\n",
    "    line_notify_token = 'YOUR_LINE_NOTIFY_TOKEN'\n",
    "    line_notify_api = 'https://notify-api.line.me/api/notify'\n",
    "    payload = {'message': message}\n",
    "    headers = {'Authorization': f'Bearer {line_notify_token}'}\n",
    "    requests.post(line_notify_api, data=payload, headers=headers)\n",
    "\n",
    "def send_morning_message():\n",
    "    send_line_notify(\"おはようございます！\")\n",
    "\n",
    "schedule.every().day.at(\"10:00\").do(send_morning_message)\n",
    "\n",
    "while True:\n",
    "    schedule.run_pending()\n",
    "    time.sleep(1)"
   ]
  }
 ],
 "metadata": {
  "language_info": {
   "name": "python"
  }
 },
 "nbformat": 4,
 "nbformat_minor": 2
}
